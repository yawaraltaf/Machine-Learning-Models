{
 "cells": [
  {
   "cell_type": "code",
   "execution_count": 3,
   "metadata": {},
   "outputs": [],
   "source": [
    "import tensorflow as tf\n",
    "from keras.preprocessing.image import ImageDataGenerator"
   ]
  },
  {
   "cell_type": "code",
   "execution_count": 4,
   "metadata": {},
   "outputs": [
    {
     "name": "stdout",
     "output_type": "stream",
     "text": [
      "Found 8000 images belonging to 2 classes.\n"
     ]
    }
   ],
   "source": [
    "train_datagen = ImageDataGenerator(rescale = 1./225, shear_range = 0.2, zoom_range = 0.2,  horizontal_flip = True)\n",
    "training_set = train_datagen.flow_from_directory('dataset/training_set', target_size = (64,64),\\\n",
    "                                                 batch_size = 32, class_mode = 'binary')"
   ]
  },
  {
   "cell_type": "code",
   "execution_count": 5,
   "metadata": {},
   "outputs": [
    {
     "name": "stdout",
     "output_type": "stream",
     "text": [
      "Found 2000 images belonging to 2 classes.\n"
     ]
    }
   ],
   "source": [
    "test_datagen = ImageDataGenerator(rescale = 1./225)\n",
    "test_set = test_datagen.flow_from_directory('dataset/test_set', target_size = (64,64),\\\n",
    "                                                 batch_size = 32, class_mode = 'binary')"
   ]
  },
  {
   "cell_type": "code",
   "execution_count": 6,
   "metadata": {},
   "outputs": [],
   "source": [
    "cnn = tf.keras.models.Sequential()"
   ]
  },
  {
   "cell_type": "code",
   "execution_count": 7,
   "metadata": {},
   "outputs": [],
   "source": [
    "cnn.add(tf.keras.layers.Conv2D(filters = 32, kernel_size = 3, activation = 'relu', input_shape = [64, 64, 3]))"
   ]
  },
  {
   "cell_type": "code",
   "execution_count": 8,
   "metadata": {},
   "outputs": [],
   "source": [
    "cnn.add(tf.keras.layers.MaxPool2D(pool_size = 2, strides = 2))"
   ]
  },
  {
   "cell_type": "code",
   "execution_count": 9,
   "metadata": {},
   "outputs": [],
   "source": [
    "cnn.add(tf.keras.layers.Conv2D(filters = 32, kernel_size = 3, activation = 'relu'))\n",
    "cnn.add(tf.keras.layers.MaxPool2D(pool_size = 2, strides = 2))"
   ]
  },
  {
   "cell_type": "code",
   "execution_count": 10,
   "metadata": {},
   "outputs": [],
   "source": [
    "cnn.add(tf.keras.layers.Flatten())"
   ]
  },
  {
   "cell_type": "code",
   "execution_count": 11,
   "metadata": {},
   "outputs": [],
   "source": [
    "cnn.add(tf.keras.layers.Dense(units = 128, activation = 'relu'))"
   ]
  },
  {
   "cell_type": "code",
   "execution_count": 12,
   "metadata": {},
   "outputs": [],
   "source": [
    "cnn.add(tf.keras.layers.Dense(units = 1, activation = 'sigmoid'))"
   ]
  },
  {
   "cell_type": "code",
   "execution_count": 13,
   "metadata": {},
   "outputs": [],
   "source": [
    "cnn.compile(optimizer = 'adam', loss = 'binary_crossentropy', metrics = ['accuracy'])"
   ]
  },
  {
   "cell_type": "code",
   "execution_count": 14,
   "metadata": {},
   "outputs": [
    {
     "name": "stdout",
     "output_type": "stream",
     "text": [
      "Epoch 1/25\n",
      "250/250 [==============================] - 63s 251ms/step - loss: 0.6540 - accuracy: 0.6040 - val_loss: 0.6205 - val_accuracy: 0.6580\n",
      "Epoch 2/25\n",
      "250/250 [==============================] - 61s 244ms/step - loss: 0.5879 - accuracy: 0.6883 - val_loss: 0.5392 - val_accuracy: 0.7345\n",
      "Epoch 3/25\n",
      "250/250 [==============================] - 46s 184ms/step - loss: 0.5449 - accuracy: 0.7179 - val_loss: 0.5320 - val_accuracy: 0.7390\n",
      "Epoch 4/25\n",
      "250/250 [==============================] - 37s 148ms/step - loss: 0.5280 - accuracy: 0.7340 - val_loss: 0.5025 - val_accuracy: 0.7595\n",
      "Epoch 5/25\n",
      "250/250 [==============================] - 37s 147ms/step - loss: 0.5011 - accuracy: 0.7550 - val_loss: 0.5114 - val_accuracy: 0.7485\n",
      "Epoch 6/25\n",
      "250/250 [==============================] - 37s 148ms/step - loss: 0.4846 - accuracy: 0.7651 - val_loss: 0.5325 - val_accuracy: 0.7500\n",
      "Epoch 7/25\n",
      "250/250 [==============================] - 37s 147ms/step - loss: 0.4639 - accuracy: 0.7766 - val_loss: 0.5431 - val_accuracy: 0.7485\n",
      "Epoch 8/25\n",
      "250/250 [==============================] - 37s 148ms/step - loss: 0.4484 - accuracy: 0.7837 - val_loss: 0.5978 - val_accuracy: 0.7245\n",
      "Epoch 9/25\n",
      "250/250 [==============================] - 37s 148ms/step - loss: 0.4285 - accuracy: 0.7993 - val_loss: 0.6051 - val_accuracy: 0.7490\n",
      "Epoch 10/25\n",
      "250/250 [==============================] - 37s 149ms/step - loss: 0.4209 - accuracy: 0.8036 - val_loss: 0.4698 - val_accuracy: 0.7880\n",
      "Epoch 11/25\n",
      "250/250 [==============================] - 37s 149ms/step - loss: 0.4040 - accuracy: 0.8146 - val_loss: 0.4739 - val_accuracy: 0.7880\n",
      "Epoch 12/25\n",
      "250/250 [==============================] - 37s 146ms/step - loss: 0.3809 - accuracy: 0.8248 - val_loss: 0.4948 - val_accuracy: 0.7820\n",
      "Epoch 13/25\n",
      "250/250 [==============================] - 37s 146ms/step - loss: 0.3741 - accuracy: 0.8322 - val_loss: 0.4692 - val_accuracy: 0.7890\n",
      "Epoch 14/25\n",
      "250/250 [==============================] - 37s 146ms/step - loss: 0.3564 - accuracy: 0.8389 - val_loss: 0.5264 - val_accuracy: 0.7705\n",
      "Epoch 15/25\n",
      "250/250 [==============================] - 37s 149ms/step - loss: 0.3470 - accuracy: 0.8440 - val_loss: 0.5551 - val_accuracy: 0.7740\n",
      "Epoch 16/25\n",
      "250/250 [==============================] - 37s 147ms/step - loss: 0.3259 - accuracy: 0.8537 - val_loss: 0.5119 - val_accuracy: 0.7785\n",
      "Epoch 17/25\n",
      "250/250 [==============================] - 37s 148ms/step - loss: 0.3062 - accuracy: 0.8639 - val_loss: 0.5110 - val_accuracy: 0.7920\n",
      "Epoch 18/25\n",
      "250/250 [==============================] - 37s 146ms/step - loss: 0.2999 - accuracy: 0.8700 - val_loss: 0.5124 - val_accuracy: 0.8120\n",
      "Epoch 19/25\n",
      "250/250 [==============================] - 37s 148ms/step - loss: 0.2840 - accuracy: 0.8756 - val_loss: 0.5184 - val_accuracy: 0.7880\n",
      "Epoch 20/25\n",
      "250/250 [==============================] - 37s 147ms/step - loss: 0.2753 - accuracy: 0.8810 - val_loss: 0.6582 - val_accuracy: 0.7635\n",
      "Epoch 21/25\n",
      "250/250 [==============================] - 37s 147ms/step - loss: 0.2571 - accuracy: 0.8913 - val_loss: 0.5591 - val_accuracy: 0.7890\n",
      "Epoch 22/25\n",
      "250/250 [==============================] - 37s 148ms/step - loss: 0.2423 - accuracy: 0.8971 - val_loss: 0.5891 - val_accuracy: 0.7895\n",
      "Epoch 23/25\n",
      "250/250 [==============================] - 38s 150ms/step - loss: 0.2240 - accuracy: 0.9104 - val_loss: 0.6083 - val_accuracy: 0.7920\n",
      "Epoch 24/25\n",
      "250/250 [==============================] - 37s 147ms/step - loss: 0.2230 - accuracy: 0.9109 - val_loss: 0.5939 - val_accuracy: 0.7865\n",
      "Epoch 25/25\n",
      "250/250 [==============================] - 37s 147ms/step - loss: 0.2119 - accuracy: 0.9126 - val_loss: 0.5539 - val_accuracy: 0.7950\n"
     ]
    },
    {
     "data": {
      "text/plain": [
       "<keras.callbacks.History at 0x25b3a6771d0>"
      ]
     },
     "execution_count": 14,
     "metadata": {},
     "output_type": "execute_result"
    }
   ],
   "source": [
    "cnn.fit(x = training_set, validation_data = test_set, epochs = 25)"
   ]
  },
  {
   "cell_type": "code",
   "execution_count": 44,
   "metadata": {},
   "outputs": [
    {
     "name": "stdout",
     "output_type": "stream",
     "text": [
      "1/1 [==============================] - 0s 47ms/step\n"
     ]
    }
   ],
   "source": [
    "import numpy as np\n",
    "from keras.preprocessing import image\n",
    "test_image = tf.keras.preprocessing.image.load_img('dataset/single_prediction/cat_or_dog_3.jpg', target_size = (64,64))\n",
    "test_image = tf.keras.preprocessing.image.img_to_array(test_image)\n",
    "test_image = np.expand_dims(test_image, axis = 0)\n",
    "result = cnn.predict(test_image)\n",
    "training_set.class_indices\n",
    "if (result[0][0] == 1):\n",
    "    prediction = 'dog'\n",
    "else:\n",
    "    prediction = 'cat'"
   ]
  },
  {
   "cell_type": "code",
   "execution_count": 45,
   "metadata": {},
   "outputs": [
    {
     "name": "stdout",
     "output_type": "stream",
     "text": [
      "cat\n"
     ]
    }
   ],
   "source": [
    "print(prediction)"
   ]
  }
 ],
 "metadata": {
  "kernelspec": {
   "display_name": "Python 3",
   "language": "python",
   "name": "python3"
  },
  "language_info": {
   "codemirror_mode": {
    "name": "ipython",
    "version": 3
   },
   "file_extension": ".py",
   "mimetype": "text/x-python",
   "name": "python",
   "nbconvert_exporter": "python",
   "pygments_lexer": "ipython3",
   "version": "3.7.3"
  }
 },
 "nbformat": 4,
 "nbformat_minor": 2
}
